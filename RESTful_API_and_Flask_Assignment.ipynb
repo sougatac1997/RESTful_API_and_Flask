{
  "cells": [
    {
      "cell_type": "markdown",
      "id": "d4df18bb",
      "metadata": {
        "id": "d4df18bb"
      },
      "source": [
        "# Assignment: RESTful API & Flask\n",
        "\n",
        "This notebook contains theory questions with detailed answers and practical questions with executable code examples."
      ]
    },
    {
      "cell_type": "markdown",
      "id": "5452905f",
      "metadata": {
        "id": "5452905f"
      },
      "source": [
        "## Theory Questions"
      ]
    },
    {
      "cell_type": "markdown",
      "id": "59ca04e3",
      "metadata": {
        "id": "59ca04e3"
      },
      "source": [
        "### Q1. What is a RESTful API?\n",
        "\n",
        "**Answer:**\n",
        "A **RESTful API** is an application programming interface that conforms to the architectural principles of REST (Representational State Transfer). It exposes resources identified by URLs and manipulates them using standard HTTP methods such as GET, POST, PUT, PATCH, and DELETE. RESTful APIs are stateless, cacheable, and leverage uniform interfaces, making them simple, scalable, and language‑agnostic."
      ]
    },
    {
      "cell_type": "markdown",
      "id": "e9eb57e0",
      "metadata": {
        "id": "e9eb57e0"
      },
      "source": [
        "### Q2. Explain the concept of API specification.\n",
        "\n",
        "**Answer:**\n",
        "An **API specification** is a formal, machine‑readable contract (e.g., OpenAPI/Swagger) that describes every endpoint, HTTP method, parameter, request/response schema, authentication scheme, and status code of an API. It serves as a single source of truth for developers, supports code generation, documentation, testing, and ensures that client and server teams share the same expectations."
      ]
    },
    {
      "cell_type": "markdown",
      "id": "19aa1850",
      "metadata": {
        "id": "19aa1850"
      },
      "source": [
        "### Q3. What is Flask, and why is it popular for building APIs?\n",
        "\n",
        "**Answer:**\n",
        "**Flask** is a lightweight, micro web framework for Python. It is popular for building APIs because it is minimal (no enforced project structure), easy to learn, has excellent documentation, and can be extended with a rich ecosystem of extensions (Flask‑RESTful, Flask‑SQLAlchemy, Flask‑JWT‑Extended, etc.) to add ORM, authentication, and more."
      ]
    },
    {
      "cell_type": "markdown",
      "id": "98cd8578",
      "metadata": {
        "id": "98cd8578"
      },
      "source": [
        "### Q4. What is routing in Flask?\n",
        "\n",
        "**Answer:**\n",
        "**Routing** in Flask is the mechanism that maps a URL path to a Python view function. Each route defines which code should run when a particular HTTP request (path + method) is received."
      ]
    },
    {
      "cell_type": "markdown",
      "id": "1f58307a",
      "metadata": {
        "id": "1f58307a"
      },
      "source": [
        "### Q5. How do you create a simple Flask application?\n",
        "\n",
        "**Answer:**\n",
        "Install Flask (`pip install flask`), then:\n",
        "```python\n",
        "from flask import Flask\n",
        "app = Flask(__name__)\n",
        "\n",
        "@app.route('/')\n",
        "def home():\n",
        "    return 'Hello, Flask!'\n",
        "\n",
        "if __name__ == '__main__':\n",
        "    app.run(debug=True)\n",
        "```"
      ]
    },
    {
      "cell_type": "markdown",
      "id": "c3fb9234",
      "metadata": {
        "id": "c3fb9234"
      },
      "source": [
        "### Q6. What are HTTP methods used in RESTful APIs?\n",
        "\n",
        "**Answer:**\n",
        "Typical HTTP methods are **GET** (retrieve), **POST** (create), **PUT** (replace), **PATCH** (partial update), **DELETE** (remove), **HEAD**, and **OPTIONS**."
      ]
    },
    {
      "cell_type": "markdown",
      "id": "2faa8e4d",
      "metadata": {
        "id": "2faa8e4d"
      },
      "source": [
        "### Q7. What is the purpose of the @app.route() decorator in Flask?\n",
        "\n",
        "**Answer:**\n",
        "`@app.route()` registers a view function for a given URL rule and optional list of HTTP methods, enabling Flask’s internal router to dispatch matching requests to that function."
      ]
    },
    {
      "cell_type": "markdown",
      "id": "5c4c9bf4",
      "metadata": {
        "id": "5c4c9bf4"
      },
      "source": [
        "### Q8. What is the difference between GET and POST HTTP methods?\n",
        "\n",
        "**Answer:**\n",
        "**GET** requests retrieve data and should have no side effects; parameters are passed in the URL. **POST** requests submit data to be processed (create side effects) and usually send payloads in the body."
      ]
    },
    {
      "cell_type": "markdown",
      "id": "af86c033",
      "metadata": {
        "id": "af86c033"
      },
      "source": [
        "### Q9. How do you handle errors in Flask APIs?\n",
        "\n",
        "**Answer:**\n",
        "Use the `abort()` helper or register custom error handlers with `@app.errorhandler(code)`. Return JSON error messages with appropriate HTTP status codes to help clients handle failures gracefully."
      ]
    },
    {
      "cell_type": "markdown",
      "id": "6d24d432",
      "metadata": {
        "id": "6d24d432"
      },
      "source": [
        "### Q10. How do you connect Flask to a SQL database?\n",
        "\n",
        "**Answer:**\n",
        "Configure a database URI (`SQLALCHEMY_DATABASE_URI`) and use SQLAlchemy or an extension such as **Flask‑SQLAlchemy** to create an engine, models, and sessions. For raw connections you can use `pymysql` or similar drivers."
      ]
    },
    {
      "cell_type": "markdown",
      "id": "6547c855",
      "metadata": {
        "id": "6547c855"
      },
      "source": [
        "### Q11. What is the role of Flask‑SQLAlchemy?\n",
        "\n",
        "**Answer:**\n",
        "**Flask‑SQLAlchemy** is an ORM extension that integrates SQLAlchemy with Flask’s application context—handling engine, sessions, migrations, and CLI commands—simplifying database access."
      ]
    },
    {
      "cell_type": "markdown",
      "id": "88b9c14e",
      "metadata": {
        "id": "88b9c14e"
      },
      "source": [
        "### Q12. What are Flask blueprints, and how are they useful?\n",
        "\n",
        "**Answer:**\n",
        "**Blueprints** are components that encapsulate a related set of routes, templates, and static files. They enable modular application architecture and make large projects easier to maintain, test, and reuse."
      ]
    },
    {
      "cell_type": "markdown",
      "id": "ec74d112",
      "metadata": {
        "id": "ec74d112"
      },
      "source": [
        "### Q13. What is the purpose of Flask's request object?\n",
        "\n",
        "**Answer:**\n",
        "`flask.request` represents the current incoming HTTP request. It exposes headers, query parameters, form data, JSON payloads, files, and metadata such as method and URL."
      ]
    },
    {
      "cell_type": "markdown",
      "id": "c64c0fc7",
      "metadata": {
        "id": "c64c0fc7"
      },
      "source": [
        "### Q14. How do you create a RESTful API endpoint using Flask?\n",
        "\n",
        "**Answer:**\n",
        "Define a route that accepts the desired methods and returns a JSON response, e.g.:\n",
        "```python\n",
        "@app.route('/api/v1/items', methods=['GET'])\n",
        "def list_items():\n",
        "    return jsonify(items)\n",
        "```"
      ]
    },
    {
      "cell_type": "markdown",
      "id": "5a9eca48",
      "metadata": {
        "id": "5a9eca48"
      },
      "source": [
        "### Q15. What is the purpose of Flask's jsonify() function?\n",
        "\n",
        "**Answer:**\n",
        "`jsonify()` converts Python dicts/lists into a `Response` object with `application/json` MIME type and UTF‑8 encoding, plus handles serialisation of common data types safely."
      ]
    },
    {
      "cell_type": "markdown",
      "id": "601be75a",
      "metadata": {
        "id": "601be75a"
      },
      "source": [
        "### Q16. Explain Flask’s url_for() function.\n",
        "\n",
        "**Answer:**\n",
        "`url_for('home', page=2)` builds a fully qualified URL to the endpoint (view function `home`) using the application’s URL map. It avoids hard‑coding URLs and works even if the route changes."
      ]
    },
    {
      "cell_type": "markdown",
      "id": "af7a8342",
      "metadata": {
        "id": "af7a8342"
      },
      "source": [
        "### Q17. How does Flask handle static files (CSS, JavaScript, etc.)?\n",
        "\n",
        "**Answer:**\n",
        "Flask serves static files from the `/static` folder automatically (mapped to `/static/<filename>`). You can configure the folder or add other static routes if needed."
      ]
    },
    {
      "cell_type": "markdown",
      "id": "247563b8",
      "metadata": {
        "id": "247563b8"
      },
      "source": [
        "### Q18. What is an API specification, and how does it help in building a Flask API?\n",
        "\n",
        "**Answer:**\n",
        "An API specification (see above) acts as a design blueprint, guiding consistent endpoint naming, parameter validation, automated documentation, and mocking when building a Flask API."
      ]
    },
    {
      "cell_type": "markdown",
      "id": "dedade1a",
      "metadata": {
        "id": "dedade1a"
      },
      "source": [
        "### Q19. What are HTTP status codes, and why are they important in a Flask API?\n",
        "\n",
        "**Answer:**\n",
        "**HTTP status codes** (e.g., 200 OK, 404 Not Found, 500 Internal Server Error) convey the outcome of the request, allowing client applications to programmatically react to success or failure."
      ]
    },
    {
      "cell_type": "markdown",
      "id": "0649b5b4",
      "metadata": {
        "id": "0649b5b4"
      },
      "source": [
        "### Q20. How do you handle POST requests in Flask?\n",
        "\n",
        "**Answer:**\n",
        "Declare `methods=['POST']` on the route and access :\n",
        "```python\n",
        "@app.route('/users', methods=['POST'])\n",
        "def create_user():\n",
        "    data = request.get_json()\n",
        "    # process...\n",
        "```"
      ]
    },
    {
      "cell_type": "markdown",
      "id": "609f65e1",
      "metadata": {
        "id": "609f65e1"
      },
      "source": [
        "### Q21. How would you secure a Flask API?\n",
        "\n",
        "**Answer:**\n",
        "Use HTTPS, JWT/OAuth2 authentication, input validation (e.g., Marshmallow, pydantic), rate‑limiting (Flask‑Limiter), CORS headers, CSRF protection, and secure configuration of secret keys."
      ]
    },
    {
      "cell_type": "markdown",
      "id": "a55f3868",
      "metadata": {
        "id": "a55f3868"
      },
      "source": [
        "### Q22. What is the significance of the Flask‑RESTful extension?\n",
        "\n",
        "**Answer:**\n",
        "**Flask‑RESTful** adds a Resource‑based class API, request parsing/validation, and automatic conversion to JSON, reducing boilerplate for building RESTful services."
      ]
    },
    {
      "cell_type": "markdown",
      "id": "3e380d78",
      "metadata": {
        "id": "3e380d78"
      },
      "source": [
        "### Q23. What is the role of Flask’s session object?\n",
        "\n",
        "**Answer:**\n",
        "`flask.session` stores per‑client data on the server side using signed cookies by default. It supports user login tracking, shopping carts, and other stateful behavior across requests."
      ]
    },
    {
      "cell_type": "markdown",
      "id": "e40d22d7",
      "metadata": {
        "id": "e40d22d7"
      },
      "source": [
        "## Practical Questions"
      ]
    },
    {
      "cell_type": "markdown",
      "id": "0cf49f3e",
      "metadata": {
        "id": "0cf49f3e"
      },
      "source": [
        "### Practical Q1. How do you create a basic Flask application?"
      ]
    },
    {
      "cell_type": "code",
      "execution_count": null,
      "id": "bb071993",
      "metadata": {
        "id": "bb071993"
      },
      "outputs": [],
      "source": [
        "from flask import Flask\n",
        "app = Flask(__name__)\n",
        "\n",
        "@app.route('/')\n",
        "def home():\n",
        "    return 'Hello, World!'\n",
        "\n",
        "if __name__ == '__main__':\n",
        "    app.run(debug=True)"
      ]
    },
    {
      "cell_type": "markdown",
      "id": "8f2a94f6",
      "metadata": {
        "id": "8f2a94f6"
      },
      "source": [
        "### Practical Q2. How do you serve static files like images or CSS in Flask?"
      ]
    },
    {
      "cell_type": "code",
      "execution_count": null,
      "id": "096f04df",
      "metadata": {
        "id": "096f04df"
      },
      "outputs": [],
      "source": [
        "# Place files under the 'static' folder.\n",
        "# Access them via /static/style.css in your templates or browser."
      ]
    },
    {
      "cell_type": "markdown",
      "id": "f2d2f620",
      "metadata": {
        "id": "f2d2f620"
      },
      "source": [
        "### Practical Q3. How do you define different routes with different HTTP methods in Flask?"
      ]
    },
    {
      "cell_type": "code",
      "execution_count": null,
      "id": "4757a8ec",
      "metadata": {
        "id": "4757a8ec"
      },
      "outputs": [],
      "source": [
        "from flask import Flask, request, jsonify\n",
        "app = Flask(__name__)\n",
        "\n",
        "@app.route('/items', methods=['GET', 'POST'])\n",
        "def items():\n",
        "    if request.method == 'GET':\n",
        "        return jsonify({'items': []})\n",
        "    else:\n",
        "        data = request.json\n",
        "        return jsonify({'created': data}), 201"
      ]
    },
    {
      "cell_type": "markdown",
      "id": "76a3736a",
      "metadata": {
        "id": "76a3736a"
      },
      "source": [
        "### Practical Q4. How do you render HTML templates in Flask?"
      ]
    },
    {
      "cell_type": "code",
      "execution_count": null,
      "id": "13e5050c",
      "metadata": {
        "id": "13e5050c"
      },
      "outputs": [],
      "source": [
        "from flask import Flask, render_template\n",
        "app = Flask(__name__)\n",
        "\n",
        "@app.route('/hello')\n",
        "def hello():\n",
        "    return render_template('hello.html', name='Flask')"
      ]
    },
    {
      "cell_type": "markdown",
      "id": "5367316f",
      "metadata": {
        "id": "5367316f"
      },
      "source": [
        "### Practical Q5. How can you generate URLs for routes in Flask using url_for?"
      ]
    },
    {
      "cell_type": "code",
      "execution_count": null,
      "id": "c2a2bff2",
      "metadata": {
        "id": "c2a2bff2"
      },
      "outputs": [],
      "source": [
        "from flask import Flask, url_for\n",
        "app = Flask(__name__)\n",
        "\n",
        "@app.route('/')\n",
        "def index():\n",
        "    return f\"Go to {url_for('profile', username='john')}\"\n",
        "\n",
        "@app.route('/user/<username>')\n",
        "def profile(username):\n",
        "    return f'Profile: {username}'"
      ]
    },
    {
      "cell_type": "markdown",
      "id": "4dbea80b",
      "metadata": {
        "id": "4dbea80b"
      },
      "source": [
        "### Practical Q6. How do you handle forms in Flask?"
      ]
    },
    {
      "cell_type": "code",
      "execution_count": null,
      "id": "014b718b",
      "metadata": {
        "id": "014b718b"
      },
      "outputs": [],
      "source": [
        "from flask import Flask, render_template, request\n",
        "app = Flask(__name__)\n",
        "\n",
        "@app.route('/login', methods=['GET', 'POST'])\n",
        "def login():\n",
        "    if request.method == 'POST':\n",
        "        user = request.form['username']\n",
        "        return f'Logged in as {user}'\n",
        "    return render_template('login.html')"
      ]
    },
    {
      "cell_type": "markdown",
      "id": "15a82e84",
      "metadata": {
        "id": "15a82e84"
      },
      "source": [
        "### Practical Q7. How can you validate form data in Flask?"
      ]
    },
    {
      "cell_type": "code",
      "execution_count": null,
      "id": "49a6b4ac",
      "metadata": {
        "id": "49a6b4ac"
      },
      "outputs": [],
      "source": [
        "from flask_wtf import FlaskForm\n",
        "from wtforms import StringField\n",
        "from wtforms.validators import DataRequired\n",
        "class MyForm(FlaskForm):\n",
        "    name = StringField('name', validators=[DataRequired()])"
      ]
    },
    {
      "cell_type": "markdown",
      "id": "dc9b3ea4",
      "metadata": {
        "id": "dc9b3ea4"
      },
      "source": [
        "### Practical Q8. How do you manage sessions in Flask?"
      ]
    },
    {
      "cell_type": "code",
      "execution_count": null,
      "id": "26d7353a",
      "metadata": {
        "id": "26d7353a"
      },
      "outputs": [],
      "source": [
        "from flask import Flask, session, redirect, url_for, request\n",
        "app = Flask(__name__)\n",
        "app.secret_key = 'supersecret'\n",
        "\n",
        "@app.route('/set')\n",
        "def set_session():\n",
        "    session['user'] = 'Alice'\n",
        "    return 'session set'\n",
        "\n",
        "@app.route('/get')\n",
        "def get_session():\n",
        "    return session.get('user', 'not set')"
      ]
    },
    {
      "cell_type": "markdown",
      "id": "38985260",
      "metadata": {
        "id": "38985260"
      },
      "source": [
        "### Practical Q9. How do you redirect to a different route in Flask?"
      ]
    },
    {
      "cell_type": "code",
      "execution_count": null,
      "id": "2b683d81",
      "metadata": {
        "id": "2b683d81"
      },
      "outputs": [],
      "source": [
        "from flask import Flask, redirect, url_for\n",
        "app = Flask(__name__)\n",
        "\n",
        "@app.route('/old')\n",
        "def old():\n",
        "    return redirect(url_for('new'))\n",
        "\n",
        "@app.route('/new')\n",
        "def new():\n",
        "    return 'New page'"
      ]
    },
    {
      "cell_type": "markdown",
      "id": "2f4c5fbb",
      "metadata": {
        "id": "2f4c5fbb"
      },
      "source": [
        "### Practical Q10. How do you handle errors in Flask (e.g., 404)?"
      ]
    },
    {
      "cell_type": "code",
      "execution_count": null,
      "id": "2d1af765",
      "metadata": {
        "id": "2d1af765"
      },
      "outputs": [],
      "source": [
        "from flask import Flask, jsonify\n",
        "app = Flask(__name__)\n",
        "\n",
        "@app.errorhandler(404)\n",
        "def not_found(e):\n",
        "    return jsonify(error='Not Found'), 404"
      ]
    },
    {
      "cell_type": "markdown",
      "id": "7cfae43d",
      "metadata": {
        "id": "7cfae43d"
      },
      "source": [
        "### Practical Q11. How do you structure a Flask app using Blueprints?"
      ]
    },
    {
      "cell_type": "code",
      "execution_count": null,
      "id": "270e0956",
      "metadata": {
        "id": "270e0956"
      },
      "outputs": [],
      "source": [
        "from flask import Flask, Blueprint\n",
        "bp = Blueprint('api', __name__, url_prefix='/api')\n",
        "\n",
        "@bp.route('/ping')\n",
        "def ping():\n",
        "    return 'pong'\n",
        "\n",
        "app = Flask(__name__)\n",
        "app.register_blueprint(bp)"
      ]
    },
    {
      "cell_type": "markdown",
      "id": "7dca438c",
      "metadata": {
        "id": "7dca438c"
      },
      "source": [
        "### Practical Q12. How do you define a custom Jinja filter in Flask?"
      ]
    },
    {
      "cell_type": "code",
      "execution_count": null,
      "id": "4f3f2f0f",
      "metadata": {
        "id": "4f3f2f0f"
      },
      "outputs": [],
      "source": [
        "from flask import Flask\n",
        "app = Flask(__name__)\n",
        "\n",
        "@app.template_filter('reverse')\n",
        "def reverse_filter(s):\n",
        "    return s[::-1]"
      ]
    },
    {
      "cell_type": "markdown",
      "id": "622b661f",
      "metadata": {
        "id": "622b661f"
      },
      "source": [
        "### Practical Q13. How can you redirect with query parameters in Flask?"
      ]
    },
    {
      "cell_type": "code",
      "execution_count": null,
      "id": "4949e14d",
      "metadata": {
        "id": "4949e14d"
      },
      "outputs": [],
      "source": [
        "from flask import Flask, redirect, url_for, request\n",
        "app = Flask(__name__)\n",
        "\n",
        "@app.route('/search')\n",
        "def search():\n",
        "    query = request.args.get('q')\n",
        "    return f'Search results for {query}'\n",
        "\n",
        "@app.route('/go')\n",
        "def go():\n",
        "    return redirect(url_for('search', q='flask'))"
      ]
    },
    {
      "cell_type": "markdown",
      "id": "785fc9c7",
      "metadata": {
        "id": "785fc9c7"
      },
      "source": [
        "### Practical Q14. How do you return JSON responses in Flask?"
      ]
    },
    {
      "cell_type": "code",
      "execution_count": null,
      "id": "de1dacc2",
      "metadata": {
        "id": "de1dacc2"
      },
      "outputs": [],
      "source": [
        "from flask import Flask, jsonify\n",
        "app = Flask(__name__)\n",
        "\n",
        "@app.route('/json')\n",
        "def json_route():\n",
        "    return jsonify(message='Hello JSON')"
      ]
    },
    {
      "cell_type": "markdown",
      "id": "3291a3cb",
      "metadata": {
        "id": "3291a3cb"
      },
      "source": [
        "### Practical Q15. How do you capture URL parameters in Flask?"
      ]
    },
    {
      "cell_type": "code",
      "execution_count": null,
      "id": "0ebdfb0f",
      "metadata": {
        "id": "0ebdfb0f"
      },
      "outputs": [],
      "source": [
        "from flask import Flask\n",
        "app = Flask(__name__)\n",
        "\n",
        "@app.route('/user/<int:id>')\n",
        "def user(id):\n",
        "    return f'User ID = {id}'"
      ]
    }
  ],
  "metadata": {
    "colab": {
      "provenance": []
    }
  },
  "nbformat": 4,
  "nbformat_minor": 5
}